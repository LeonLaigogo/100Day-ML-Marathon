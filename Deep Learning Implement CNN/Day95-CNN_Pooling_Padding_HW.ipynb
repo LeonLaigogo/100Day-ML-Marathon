{
 "cells": [
  {
   "cell_type": "markdown",
   "metadata": {},
   "source": [
    "# 作業目標:\n",
    "    了解 Padding 的作法\n",
    "    \n",
    "    了解 Pooling 的作法"
   ]
  },
  {
   "cell_type": "markdown",
   "metadata": {},
   "source": [
    "# 作業重點:\n",
    "    (1) 調整Padding 的設定, 看 Pad 後的結果\n",
    "    \n",
    "    (2) 調整Pooling 的設定, 看 Poolin 後的結果"
   ]
  },
  {
   "cell_type": "code",
   "execution_count": 4,
   "metadata": {},
   "outputs": [
    {
     "name": "stdout",
     "output_type": "stream",
     "text": [
      "The autoreload extension is already loaded. To reload it, use:\n",
      "  %reload_ext autoreload\n"
     ]
    }
   ],
   "source": [
    "import numpy as np\n",
    "import h5py\n",
    "import matplotlib.pyplot as plt\n",
    "\n",
    "# 繪圖結果直接顯示在Jupyter cell 之內\n",
    "%matplotlib inline  \n",
    "plt.rcParams['figure.figsize'] = (5.0, 4.0) #  設定繪圖板的大小\n",
    "plt.rcParams['image.interpolation'] = 'nearest'\n",
    "plt.rcParams['image.cmap'] = 'gray'\n",
    "\n",
    "# autoreload。可以讓我們不退出IPython就動態修改代碼，在執行代碼前IPython會幫我們自動重載改動的模塊\n",
    "%load_ext autoreload\n",
    "%autoreload 2\n",
    "np.random.seed(1)"
   ]
  },
  {
   "cell_type": "code",
   "execution_count": 5,
   "metadata": {},
   "outputs": [],
   "source": [
    "# GRADED FUNCTION: zero_pad\n",
    "def zero_pad(X, pad):\n",
    "    \"\"\"\n",
    "    對image X 做 zero-padding. \n",
    "    參數定義如下:\n",
    "    X -- python numpy array, 呈現維度 (m, n_H, n_W, n_C), 代表一批 m 個圖像\n",
    "         n_H: 圖高, n_W: 圖寬, n_C: color channels 數\n",
    "    pad -- 整數, 加幾圈的 zero padding.\n",
    "    Returns:\n",
    "    X_pad -- image of shape (m, n_H + 2*pad, n_W + 2*pad, n_C) 做完zero-padding 的結果\n",
    "    \"\"\"\n",
    "    \n",
    "    X_pad = np.pad(X, ((0, 0), (pad, pad), (pad, pad), (0, 0)), 'constant', constant_values=(0, 0))\n",
    "  \n",
    "    return X_pad"
   ]
  },
  {
   "cell_type": "code",
   "execution_count": 15,
   "metadata": {},
   "outputs": [
    {
     "name": "stdout",
     "output_type": "stream",
     "text": [
      "x.shape = (6, 6, 6, 4)\n",
      "x_pad.shape = (6, 14, 14, 4)\n",
      "x[1,1] = [[ 1.91979229 -1.39169388  0.45021774  0.62743708]\n",
      " [ 0.75133724  0.14039544 -0.92687194 -0.18242041]\n",
      " [-0.49112514  0.13437312 -0.2683713  -0.13167563]\n",
      " [ 1.01855247  1.2305582  -1.18110317 -0.4599301 ]\n",
      " [-0.79079995  1.22372221 -0.0593679   1.4489894 ]\n",
      " [-0.47758085  0.02599999 -1.34869645  1.30253554]]\n",
      "x_pad[1,1] = [[0. 0. 0. 0.]\n",
      " [0. 0. 0. 0.]\n",
      " [0. 0. 0. 0.]\n",
      " [0. 0. 0. 0.]\n",
      " [0. 0. 0. 0.]\n",
      " [0. 0. 0. 0.]\n",
      " [0. 0. 0. 0.]\n",
      " [0. 0. 0. 0.]\n",
      " [0. 0. 0. 0.]\n",
      " [0. 0. 0. 0.]\n",
      " [0. 0. 0. 0.]\n",
      " [0. 0. 0. 0.]\n",
      " [0. 0. 0. 0.]\n",
      " [0. 0. 0. 0.]]\n"
     ]
    },
    {
     "data": {
      "text/plain": [
       "<matplotlib.image.AxesImage at 0x26149a88710>"
      ]
     },
     "execution_count": 15,
     "metadata": {},
     "output_type": "execute_result"
    },
    {
     "data": {
      "image/png": "[encoded data removed]",
      "text/plain": [
       "<Figure size 360x288 with 2 Axes>"
      ]
     },
     "metadata": {},
     "output_type": "display_data"
    }
   ],
   "source": [
    "x = np.random.randn(6, 6, 6, 4) \n",
    "x_pad = zero_pad(x, 4) \n",
    "print (\"x.shape =\", x.shape)\n",
    "print (\"x_pad.shape =\", x_pad.shape)\n",
    "print (\"x[1,1] =\", x[1,1])\n",
    "print (\"x_pad[1,1] =\", x_pad[1,1])\n",
    "fig, axarr = plt.subplots(1, 2)\n",
    "axarr[0].set_title('x')\n",
    "axarr[0].imshow(x[0,:,:,0])\n",
    "axarr[1].set_title('x_pad')\n",
    "axarr[1].imshow(x_pad[0,:,:,0])"
   ]
  },
  {
   "cell_type": "code",
   "execution_count": 17,
   "metadata": {},
   "outputs": [],
   "source": [
    "# GRADED FUNCTION: pool_forward\n",
    "def pool_forward(A_prev, hparameters, mode = \"max\"):\n",
    "    \"\"\"\n",
    "    設計一個前行網路的池化層\n",
    "    參數定義如下:\n",
    "    A_prev -- 輸入的numpy 陣列, 維度 (m, n_H_prev, n_W_prev, n_C_prev)\n",
    "    hparameter 超參數 --  \"f\" and \"stride\" 所形成的python 字典\n",
    "    mode -- 池化的模式: \"max\" or \"average\"\n",
    "    \n",
    "    返回:\n",
    "        A -- 輸出的池化層, 維度為 (m, n_H, n_W, n_C) 的 numpy 陣列\n",
    "        cache -- 可以應用在 backward pass pooling layer 資料, 包含 input and hparameter\n",
    "    \"\"\"\n",
    "\n",
    "    # 檢索尺寸 from the input shape\n",
    "    (m, n_H_prev, n_W_prev, n_C_prev) = A_prev.shape\n",
    " \n",
    "    # 檢索超參數 from \"hparameters\"\n",
    "    f = hparameters[\"f\"]\n",
    "    stride = hparameters[\"stride\"]\n",
    "\n",
    "    # 定義輸出的dimensions\n",
    "    n_H = int(1 + (n_H_prev - f) / stride)\n",
    "    n_W = int(1 + (n_W_prev - f) / stride)\n",
    "    n_C = n_C_prev\n",
    "\n",
    "    # 初始化輸出的 matrix A\n",
    "    A = np.zeros((m, n_H, n_W, n_C))\n",
    "\n",
    "    ### 程式起始位置  ###\n",
    "    for i in range(m): # 訓練樣本的for 迴圈\n",
    "        for h in range(n_H): # 輸出樣本的for 迴圈, 針對vertical axis\n",
    "            for w in range(n_W): #  輸出樣本的for 迴圈, 針對 horizontal axis\n",
    "                for c in range (n_C): #  輸出樣本的for 迴圈, 針對channels\n",
    "\n",
    "                     # 找出特徵圖的寬度跟高度四個點\n",
    "                    vert_start = h * stride\n",
    "                    vert_end = h * stride+ f\n",
    "                    horiz_start = w * stride\n",
    "                    horiz_end = w * stride + f\n",
    "\n",
    "                    # 定義第i個訓練示例\n",
    "                    a_prev_slice = A_prev[i, vert_start:vert_end, horiz_start:horiz_end,c]\n",
    "\n",
    "                    # 計算輸入data 的池化結果. 使用 if statment 去做分類\n",
    "                    if mode == \"max\":\n",
    "                        A[i, h, w, c] = np.max(a_prev_slice)\n",
    "                    elif mode == \"average\":\n",
    "                        A[i, h, w, c] = np.mean(a_prev_slice)\n",
    "\n",
    "                        ### 程式結束  ###\n",
    "    \n",
    "    # 儲存輸入的特徵圖跟所設定的超參數, 可以用在 pool_backward()\n",
    "    cache = (A_prev, hparameters)\n",
    "    \n",
    "    # 確認輸出的資料維度\n",
    "    assert(A.shape == (m, n_H, n_W, n_C))\n",
    "    return A, cache"
   ]
  },
  {
   "cell_type": "code",
   "execution_count": 20,
   "metadata": {},
   "outputs": [
    {
     "name": "stdout",
     "output_type": "stream",
     "text": [
      "mode = max\n",
      "A = [[[[1.62434536 0.93110208 1.74481176 0.88514116]\n",
      "   [0.83898341 1.25286816 1.65980218 1.6924546 ]]\n",
      "\n",
      "  [[0.83898341 1.2245077  0.74055645 0.88514116]\n",
      "   [0.84616065 1.25286816 1.19891788 1.51981682]]]\n",
      "\n",
      "\n",
      " [[[2.52832571 2.18697965 0.81095167 1.95487808]\n",
      "   [1.33145711 2.18697965 0.68006984 1.95487808]]\n",
      "\n",
      "  [[1.90465871 2.44936865 1.55880554 1.95487808]\n",
      "   [2.05117344 2.44936865 0.42952614 1.95487808]]]\n",
      "\n",
      "\n",
      " [[[1.3887794  1.27852808 3.03085711 0.82458463]\n",
      "   [2.06578332 1.62284909 1.01012718 1.19268607]]\n",
      "\n",
      "  [[0.61798553 1.27852808 0.51507361 1.76795995]\n",
      "   [2.13782807 0.92061512 1.83471763 2.11060505]]]\n",
      "\n",
      "\n",
      " [[[1.46089238 1.03368687 1.19783084 1.78975468]\n",
      "   [1.04008915 1.86647138 0.77741921 1.7653351 ]]\n",
      "\n",
      "  [[1.46089238 1.40925339 1.69380911 1.70459417]\n",
      "   [1.44287693 0.55743945 0.69336623 1.76041518]]]\n",
      "\n",
      "\n",
      " [[[1.16143998 1.47073986 1.74643509 1.1010002 ]\n",
      "   [1.22515585 1.71066184 1.74643509 1.45391758]]\n",
      "\n",
      "  [[1.57546791 1.2066079  1.42361443 2.50598029]\n",
      "   [1.91979229 1.07125243 0.45021774 2.50598029]]]\n",
      "\n",
      "\n",
      " [[[1.29354962 1.04921829 1.53653633 0.73140252]\n",
      "   [3.32107876 1.04921829 0.96622086 1.70018815]]\n",
      "\n",
      "  [[1.15259914 0.84958685 1.10223673 0.73140252]\n",
      "   [1.2179409  1.55501599 0.57296273 1.85143789]]]]\n",
      "\n",
      "mode = average\n",
      "A = [[[[ 2.85690159e-01 -3.29142339e-01  1.74423806e-01 -4.57776587e-01]\n",
      "   [-1.77669033e-01 -1.00144837e-01  5.34403935e-01  2.16831394e-01]]\n",
      "\n",
      "  [[-2.70862778e-01  4.59981662e-01  1.81466859e-01  6.74762307e-02]\n",
      "   [ 1.73251960e-02  2.77623783e-01  2.62549847e-01  1.25423597e-01]]]\n",
      "\n",
      "\n",
      " [[[ 1.10637409e+00  3.25585913e-01  1.32620776e-01 -2.10399840e-02]\n",
      "   [-2.79800947e-01  1.66574710e-01 -9.54860353e-03 -6.47785597e-02]]\n",
      "\n",
      "  [[ 3.97519129e-01  4.36721888e-01  3.99991983e-01 -7.32315396e-02]\n",
      "   [-3.38049390e-01  6.97221362e-01 -2.79136061e-01 -3.76767693e-01]]]\n",
      "\n",
      "\n",
      " [[[-9.53645681e-02 -2.20032780e-01 -1.95049483e-01 -2.89152703e-01]\n",
      "   [ 2.89696257e-01  2.09840257e-01 -1.79628780e-01  7.86856398e-02]]\n",
      "\n",
      "  [[-3.95490993e-01  1.21795318e-01 -7.87520253e-01 -2.75166846e-01]\n",
      "   [ 8.53369369e-03  2.64751572e-02 -4.98648135e-02  5.73016187e-01]]]\n",
      "\n",
      "\n",
      " [[[ 3.93276398e-01 -2.86772066e-01  2.21173206e-01  8.75502911e-01]\n",
      "   [ 1.65770391e-01 -1.43707882e-01 -5.03048496e-01  4.91150003e-01]]\n",
      "\n",
      "  [[ 3.77226163e-01 -4.67689969e-02  1.88062773e-01  1.89077296e-01]\n",
      "   [-1.06478994e-03 -7.37122796e-01 -6.02103183e-01  4.99777561e-01]]]\n",
      "\n",
      "\n",
      " [[[ 2.42169223e-03 -1.00486160e-01 -3.07094076e-02  2.00548487e-01]\n",
      "   [ 3.14340643e-01  3.02178290e-02 -1.99847782e-01  8.70075424e-02]]\n",
      "\n",
      "  [[ 5.39085745e-01 -6.92603759e-02 -1.58114490e-01  4.12989799e-01]\n",
      "   [ 5.64058384e-01 -4.58200090e-01 -5.34137443e-01  3.24013029e-01]]]\n",
      "\n",
      "\n",
      " [[[-4.50448600e-01 -9.12258427e-02  5.31850940e-01 -1.41723048e-01]\n",
      "   [ 7.26930094e-01 -7.23553615e-01 -3.64508996e-01 -2.33764394e-01]]\n",
      "\n",
      "  [[ 8.24305199e-02 -5.91884292e-02  2.27458025e-01 -3.70569492e-01]\n",
      "   [ 9.40830391e-02 -2.72030543e-01 -3.15822038e-01  1.30741741e-01]]]]\n"
     ]
    }
   ],
   "source": [
    "np.random.seed(1)\n",
    "A_prev = np.random.randn(6, 6, 6, 4)\n",
    "hparameters = {\"stride\" : 2, \"f\": 3}\n",
    "\n",
    "A, cache = pool_forward(A_prev, hparameters)\n",
    "print(\"mode = max\")\n",
    "print(\"A =\", A)\n",
    "print()\n",
    "A, cache = pool_forward(A_prev, hparameters, mode = \"average\")\n",
    "print(\"mode = average\")\n",
    "print(\"A =\", A)"
   ]
  },
  {
   "cell_type": "code",
   "execution_count": null,
   "metadata": {},
   "outputs": [],
   "source": []
  }
 ],
 "metadata": {
  "kernelspec": {
   "display_name": "Python 3",
   "language": "python",
   "name": "python3"
  },
  "language_info": {
   "codemirror_mode": {
    "name": "ipython",
    "version": 3
   },
   "file_extension": ".py",
   "mimetype": "text/x-python",
   "name": "python",
   "nbconvert_exporter": "python",
   "pygments_lexer": "ipython3",
   "version": "3.6.5"
  }
 },
 "nbformat": 4,
 "nbformat_minor": 2
}
