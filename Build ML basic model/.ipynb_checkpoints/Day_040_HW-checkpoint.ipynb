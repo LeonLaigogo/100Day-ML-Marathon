{
 "cells": [
  {
   "cell_type": "markdown",
   "metadata": {},
   "source": [
    "## [作業重點]\n",
    "使用 Sklearn 中的 Lasso, Ridge 模型，來訓練各種資料集，務必了解送進去模型訓練的**資料型態**為何，也請了解模型中各項參數的意義。\n",
    "\n",
    "機器學習的模型非常多種，但要訓練的資料多半有固定的格式，確保你了解訓練資料的格式為何，這樣在應用新模型時，就能夠最快的上手開始訓練！"
   ]
  },
  {
   "cell_type": "markdown",
   "metadata": {},
   "source": [
    "## 練習時間\n",
    "試著使用 sklearn datasets 的其他資料集 (boston, ...)，來訓練自己的線性迴歸模型，並加上適當的正則化來觀察訓練情形。"
   ]
  },
  {
   "cell_type": "code",
   "execution_count": 2,
   "metadata": {},
   "outputs": [],
   "source": [
    "import numpy as np\n",
    "import matplotlib.pyplot as plt\n",
    "from sklearn import datasets, linear_model\n",
    "from sklearn.model_selection import train_test_split\n",
    "from sklearn.metrics import mean_squared_error, r2_score\n",
    "import warnings\n",
    "warnings.filterwarnings('ignore')"
   ]
  },
  {
   "cell_type": "code",
   "execution_count": 8,
   "metadata": {},
   "outputs": [
    {
     "data": {
      "text/plain": [
       "array([24. , 21.6, 34.7, 33.4, 36.2, 28.7, 22.9, 27.1, 16.5, 18.9, 15. ,\n",
       "       18.9, 21.7, 20.4, 18.2, 19.9, 23.1, 17.5, 20.2, 18.2])"
      ]
     },
     "execution_count": 8,
     "metadata": {},
     "output_type": "execute_result"
    }
   ],
   "source": [
    "boston_data = datasets.load_boston()\n",
    "\n",
    "boston_data['target'][0:20]"
   ]
  },
  {
   "cell_type": "code",
   "execution_count": 13,
   "metadata": {},
   "outputs": [],
   "source": [
    "rnd_seed = 1234\n",
    "test_size = 0.3\n",
    "cv = 5"
   ]
  },
  {
   "cell_type": "markdown",
   "metadata": {},
   "source": [
    "## Lasso"
   ]
  },
  {
   "cell_type": "code",
   "execution_count": 11,
   "metadata": {},
   "outputs": [
    {
     "name": "stdout",
     "output_type": "stream",
     "text": [
      "MSE: 32.265158275511524\n",
      "R-square: 0.3583580595296262\n"
     ]
    }
   ],
   "source": [
    "x_train, x_test, y_train, y_test = train_test_split(boston_data.data, boston_data.target, test_size=test_size, random_state=rnd_seed)\n",
    "\n",
    "model_Lasso = linear_model.Lasso()\n",
    "\n",
    "model_Lasso.fit(x_train, y_train)\n",
    "\n",
    "pred_y = model_Lasso.predict(x_test)\n",
    "\n",
    "print(f'MSE: {mean_squared_error(pred_y, y_test)}')\n",
    "print(f'R-square: {r2_score(pred_y, y_test)}')"
   ]
  },
  {
   "cell_type": "code",
   "execution_count": 19,
   "metadata": {},
   "outputs": [
    {
     "name": "stdout",
     "output_type": "stream",
     "text": [
      "Lasso Result in alpha = 0.1\n",
      "MSE: 24.385326373069713\n",
      "R-square: 0.5986236441580635\n",
      "Lasso Result in alpha = 0.05\n",
      "MSE: 23.819640308777412\n",
      "R-square: 0.6148960615065411\n",
      "Lasso Result in alpha = 0.01\n",
      "MSE: 23.90992091531281\n",
      "R-square: 0.6262397349326072\n",
      "Lasso Result in alpha = 0.001\n",
      "MSE: 24.089677873762763\n",
      "R-square: 0.627147611786192\n",
      "Lasso Result in alpha = 0.0001\n",
      "MSE: 24.110873164953535\n",
      "R-square: 0.6272061859430849\n",
      "Lasso Result in alpha = 1e-05\n",
      "MSE: 24.113025104196755\n",
      "R-square: 0.6272117226249441\n"
     ]
    },
    {
     "data": {
      "image/png": "[encoded data removed]",
      "text/plain": [
       "<Figure size 432x288 with 2 Axes>"
      ]
     },
     "metadata": {},
     "output_type": "display_data"
    }
   ],
   "source": [
    "alpha_set = [0.1, 0.05, 0.01, 0.001, 0.0001, 0.00001]\n",
    "mse_set = []\n",
    "r2_set = []\n",
    "\n",
    "import matplotlib.pyplot as plt\n",
    "\n",
    "\n",
    "for alpha in alpha_set:\n",
    "    model_Lasso = linear_model.Lasso(alpha=alpha)\n",
    "\n",
    "    model_Lasso.fit(x_train, y_train)\n",
    "\n",
    "    pred_y = model_Lasso.predict(x_test)\n",
    "\n",
    "    mse = mean_squared_error(pred_y, y_test)\n",
    "    r2 = r2_score(pred_y, y_test)\n",
    "    \n",
    "    mse_set.append(mse)\n",
    "    r2_set.append(r2)\n",
    "    \n",
    "    print(f'Lasso Result in alpha = {alpha}')\n",
    "    print(f'MSE: {mse}')\n",
    "    print(f'R-square: {r2}')\n",
    " \n",
    "fig, ax1 = plt.subplots()\n",
    "\n",
    "color = 'tab:red'\n",
    "ax1.set_xlabel('alpha')\n",
    "ax1.set_ylabel('mse', color=color)\n",
    "ax1.plot(alpha_set, mse_set, color=color)\n",
    "ax1.tick_params(axis='y', labelcolor=color)\n",
    "\n",
    "ax2 = ax1.twinx()  # instantiate a second axes that shares the same x-axis\n",
    "\n",
    "color = 'tab:blue'\n",
    "ax2.set_ylabel('r2', color=color)  # we already handled the x-label with ax1\n",
    "ax2.plot(alpha_set, r2_set, color=color)\n",
    "ax2.tick_params(axis='y', labelcolor=color)\n",
    "\n",
    "fig.tight_layout()  # otherwise the right y-label is slightly clipped\n",
    "plt.show()"
   ]
  },
  {
   "cell_type": "code",
   "execution_count": 14,
   "metadata": {},
   "outputs": [
    {
     "name": "stdout",
     "output_type": "stream",
     "text": [
      "MSE: 29.62292261829785\n",
      "R-square: 0.4406231760525976\n"
     ]
    }
   ],
   "source": [
    "model_Lasso = linear_model.LassoCV(cv = cv, random_state=rnd_seed)\n",
    "\n",
    "model_Lasso.fit(x_train, y_train)\n",
    "\n",
    "pred_y = model_Lasso.predict(x_test)\n",
    "\n",
    "print(f'MSE: {mean_squared_error(pred_y, y_test)}')\n",
    "print(f'R-square: {r2_score(pred_y, y_test)}')"
   ]
  },
  {
   "cell_type": "markdown",
   "metadata": {},
   "source": [
    "## Ridge"
   ]
  },
  {
   "cell_type": "code",
   "execution_count": 20,
   "metadata": {},
   "outputs": [
    {
     "name": "stdout",
     "output_type": "stream",
     "text": [
      "MSE: 23.610719919109307\n",
      "R-square: 0.6262854552275938\n"
     ]
    }
   ],
   "source": [
    "model_Ridge = linear_model.Ridge()\n",
    "\n",
    "model_Ridge.fit(x_train, y_train)\n",
    "\n",
    "pred_y = model_Ridge.predict(x_test)\n",
    "\n",
    "print(f'MSE: {mean_squared_error(pred_y, y_test)}')\n",
    "print(f'R-square: {r2_score(pred_y, y_test)}')"
   ]
  },
  {
   "cell_type": "code",
   "execution_count": 23,
   "metadata": {},
   "outputs": [
    {
     "name": "stdout",
     "output_type": "stream",
     "text": [
      "Ridge Result in alpha = 5\n",
      "MSE: 23.851522772954805\n",
      "R-square: 0.6164617886361008\n",
      "Ridge Result in alpha = 2\n",
      "MSE: 23.62842637689728\n",
      "R-square: 0.6233671420061054\n",
      "Ridge Result in alpha = 1\n",
      "MSE: 23.610719919109307\n",
      "R-square: 0.6262854552275938\n",
      "Ridge Result in alpha = 0.1\n",
      "MSE: 23.974163641207305\n",
      "R-square: 0.6276256011725285\n",
      "Ridge Result in alpha = 0.05\n",
      "MSE: 24.03811334383827\n",
      "R-square: 0.6274547746880444\n",
      "Ridge Result in alpha = 0.01\n",
      "MSE: 24.097233344125858\n",
      "R-square: 0.6272673030531826\n",
      "Ridge Result in alpha = 0.001\n",
      "MSE: 24.111637475166397\n",
      "R-square: 0.6272179873830347\n",
      "Ridge Result in alpha = 0.0001\n",
      "MSE: 24.113101602241194\n",
      "R-square: 0.6272129012695806\n",
      "Ridge Result in alpha = 1e-05\n",
      "MSE: 24.1132482551546\n",
      "R-square: 0.6272123910906948\n"
     ]
    },
    {
     "data": {
      "image/png": "[encoded data removed]",
      "text/plain": [
       "<Figure size 432x288 with 2 Axes>"
      ]
     },
     "metadata": {},
     "output_type": "display_data"
    }
   ],
   "source": [
    "alpha_set = [5, 2, 1, 0.1, 0.05, 0.01, 0.001, 0.0001, 0.00001]\n",
    "mse_set = []\n",
    "r2_set = []\n",
    "\n",
    "import matplotlib.pyplot as plt\n",
    "\n",
    "\n",
    "for alpha in alpha_set:\n",
    "    model_Ridge = linear_model.Ridge(alpha=alpha)\n",
    "\n",
    "    model_Ridge.fit(x_train, y_train)\n",
    "\n",
    "    pred_y = model_Ridge.predict(x_test)\n",
    "\n",
    "    mse = mean_squared_error(pred_y, y_test)\n",
    "    r2 = r2_score(pred_y, y_test)\n",
    "    \n",
    "    mse_set.append(mse)\n",
    "    r2_set.append(r2)\n",
    "    \n",
    "    print(f'Ridge Result in alpha = {alpha}')\n",
    "    print(f'MSE: {mse}')\n",
    "    print(f'R-square: {r2}')\n",
    " \n",
    "fig, ax1 = plt.subplots()\n",
    "\n",
    "color = 'tab:red'\n",
    "ax1.set_xlabel('alpha')\n",
    "ax1.set_ylabel('mse', color=color)\n",
    "ax1.plot(alpha_set, mse_set, color=color)\n",
    "ax1.tick_params(axis='y', labelcolor=color)\n",
    "\n",
    "ax2 = ax1.twinx()  # instantiate a second axes that shares the same x-axis\n",
    "\n",
    "color = 'tab:blue'\n",
    "ax2.set_ylabel('r2', color=color)  # we already handled the x-label with ax1\n",
    "ax2.plot(alpha_set, r2_set, color=color)\n",
    "ax2.tick_params(axis='y', labelcolor=color)\n",
    "\n",
    "fig.tight_layout()  # otherwise the right y-label is slightly clipped\n",
    "plt.show()"
   ]
  },
  {
   "cell_type": "code",
   "execution_count": 25,
   "metadata": {},
   "outputs": [
    {
     "name": "stdout",
     "output_type": "stream",
     "text": [
      "MSE: 23.974163641207305\n",
      "R-square: 0.6276256011725285\n"
     ]
    }
   ],
   "source": [
    "model_Ridge = linear_model.RidgeCV(cv = cv)\n",
    "\n",
    "model_Ridge.fit(x_train, y_train)\n",
    "\n",
    "pred_y = model_Ridge.predict(x_test)\n",
    "\n",
    "print(f'MSE: {mean_squared_error(pred_y, y_test)}')\n",
    "print(f'R-square: {r2_score(pred_y, y_test)}')"
   ]
  }
 ],
 "metadata": {
  "kernelspec": {
   "display_name": "Python 3",
   "language": "python",
   "name": "python3"
  },
  "language_info": {
   "codemirror_mode": {
    "name": "ipython",
    "version": 3
   },
   "file_extension": ".py",
   "mimetype": "text/x-python",
   "name": "python",
   "nbconvert_exporter": "python",
   "pygments_lexer": "ipython3",
   "version": "3.6.5"
  }
 },
 "nbformat": 4,
 "nbformat_minor": 2
}
