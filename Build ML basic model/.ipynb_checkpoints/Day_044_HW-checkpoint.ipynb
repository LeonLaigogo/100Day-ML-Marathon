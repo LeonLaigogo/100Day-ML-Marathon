{
 "cells": [
  {
   "cell_type": "markdown",
   "metadata": {},
   "source": [
    "## [作業重點]\n",
    "確保你了解隨機森林模型中每個超參數的意義，並觀察調整超參數對結果的影響"
   ]
  },
  {
   "cell_type": "markdown",
   "metadata": {},
   "source": [
    "## 作業\n",
    "\n",
    "1. 試著調整 RandomForestClassifier(...) 中的參數，並觀察是否會改變結果？\n",
    "2. 改用其他資料集 (boston, wine)，並與回歸模型與決策樹的結果進行比較"
   ]
  },
  {
   "cell_type": "code",
   "execution_count": 3,
   "metadata": {},
   "outputs": [],
   "source": [
    "from sklearn import datasets, metrics\n",
    "from sklearn.ensemble import RandomForestClassifier\n",
    "from sklearn.model_selection import train_test_split\n",
    "import warnings \n",
    "warnings.filterwarnings('ignore')"
   ]
  },
  {
   "cell_type": "markdown",
   "metadata": {},
   "source": [
    "## Boston"
   ]
  },
  {
   "cell_type": "code",
   "execution_count": 6,
   "metadata": {},
   "outputs": [
    {
     "data": {
      "text/plain": [
       "array([0, 0, 0, 0, 0, 0, 0, 0, 0, 0, 0, 0, 0, 0, 0, 0, 0, 0, 0, 0])"
      ]
     },
     "execution_count": 6,
     "metadata": {},
     "output_type": "execute_result"
    }
   ],
   "source": [
    "wine = datasets.load_wine()\n",
    "test_size = 0.25\n",
    "random_state = 1234\n",
    "\n",
    "wine.target[0:20]"
   ]
  },
  {
   "cell_type": "code",
   "execution_count": 7,
   "metadata": {},
   "outputs": [
    {
     "name": "stdout",
     "output_type": "stream",
     "text": [
      "Accuracy:  0.9111111111111111\n"
     ]
    }
   ],
   "source": [
    "x_train, x_test, y_train, y_test = train_test_split(wine.data, wine.target, test_size=test_size, random_state=random_state)\n",
    "\n",
    "clf = RandomForestClassifier()\n",
    "\n",
    "clf.fit(x_train, y_train)\n",
    "\n",
    "y_pred = clf.predict(x_test)\n",
    "\n",
    "acc = metrics.accuracy_score(y_test, y_pred)\n",
    "print(\"Accuracy: \", acc)"
   ]
  },
  {
   "cell_type": "code",
   "execution_count": 12,
   "metadata": {},
   "outputs": [],
   "source": [
    "# hyper parameters sets\n",
    "n_estimators_set = [10, 20, 30, 40, 50]\n",
    "max_features_set = ['auto', 'log2']\n",
    "max_depth_set = [5, 10, 15, 20, 30]\n",
    "min_samples_split_set = [2, 5, 10, 20]\n",
    "min_samples_leaf_set = [1, 2, 3, 4, 5]"
   ]
  },
  {
   "cell_type": "code",
   "execution_count": 13,
   "metadata": {},
   "outputs": [],
   "source": [
    "def package_parameters(n_estimators, max_features, max_depth, min_samples_split, min_samples_leaf):\n",
    "    return dict({'n_estimators': n_estimators,\n",
    "                 'max_features': max_features,\n",
    "                 'max_depth': max_depth,\n",
    "                 'min_samples_split': min_samples_split,\n",
    "                 'min_samples_leaf': min_samples_leaf})"
   ]
  },
  {
   "cell_type": "code",
   "execution_count": 14,
   "metadata": {},
   "outputs": [],
   "source": [
    "acc_sets = []\n",
    "parameters_sets = []\n",
    "\n",
    "for n_estimators in n_estimators_set:\n",
    "    for max_features in max_features_set:\n",
    "        for max_depth in max_depth_set:\n",
    "            for min_samples_split in min_samples_split_set:\n",
    "                for min_samples_leaf in min_samples_leaf_set:\n",
    "                    clf = RandomForestClassifier(n_estimators=n_estimators,\n",
    "                                                 max_features=max_features,\n",
    "                                                 max_depth=max_depth,\n",
    "                                                 min_samples_split=min_samples_split,\n",
    "                                                 min_samples_leaf=min_samples_leaf\n",
    "                                                 )\n",
    "\n",
    "                    clf.fit(x_train, y_train)\n",
    "\n",
    "                    y_pred = clf.predict(x_test)\n",
    "\n",
    "                    acc_sets.append(metrics.accuracy_score(y_test, y_pred))\n",
    "                    parameters_sets.append(package_parameters(n_estimators, max_features, max_depth, min_samples_split, min_samples_leaf))"
   ]
  },
  {
   "cell_type": "code",
   "execution_count": 16,
   "metadata": {},
   "outputs": [
    {
     "data": {
      "text/html": [
       "<div>\n",
       "<style scoped>\n",
       "    .dataframe tbody tr th:only-of-type {\n",
       "        vertical-align: middle;\n",
       "    }\n",
       "\n",
       "    .dataframe tbody tr th {\n",
       "        vertical-align: top;\n",
       "    }\n",
       "\n",
       "    .dataframe thead th {\n",
       "        text-align: right;\n",
       "    }\n",
       "</style>\n",
       "<table border=\"1\" class=\"dataframe\">\n",
       "  <thead>\n",
       "    <tr style=\"text-align: right;\">\n",
       "      <th></th>\n",
       "      <th>acc</th>\n",
       "      <th>parameters</th>\n",
       "    </tr>\n",
       "  </thead>\n",
       "  <tbody>\n",
       "    <tr>\n",
       "      <th>0</th>\n",
       "      <td>0.955556</td>\n",
       "      <td>{'n_estimators': 10, 'max_features': 'auto', '...</td>\n",
       "    </tr>\n",
       "    <tr>\n",
       "      <th>1</th>\n",
       "      <td>0.933333</td>\n",
       "      <td>{'n_estimators': 10, 'max_features': 'auto', '...</td>\n",
       "    </tr>\n",
       "    <tr>\n",
       "      <th>2</th>\n",
       "      <td>0.911111</td>\n",
       "      <td>{'n_estimators': 10, 'max_features': 'auto', '...</td>\n",
       "    </tr>\n",
       "    <tr>\n",
       "      <th>3</th>\n",
       "      <td>0.955556</td>\n",
       "      <td>{'n_estimators': 10, 'max_features': 'auto', '...</td>\n",
       "    </tr>\n",
       "    <tr>\n",
       "      <th>4</th>\n",
       "      <td>0.933333</td>\n",
       "      <td>{'n_estimators': 10, 'max_features': 'auto', '...</td>\n",
       "    </tr>\n",
       "  </tbody>\n",
       "</table>\n",
       "</div>"
      ],
      "text/plain": [
       "        acc                                         parameters\n",
       "0  0.955556  {'n_estimators': 10, 'max_features': 'auto', '...\n",
       "1  0.933333  {'n_estimators': 10, 'max_features': 'auto', '...\n",
       "2  0.911111  {'n_estimators': 10, 'max_features': 'auto', '...\n",
       "3  0.955556  {'n_estimators': 10, 'max_features': 'auto', '...\n",
       "4  0.933333  {'n_estimators': 10, 'max_features': 'auto', '..."
      ]
     },
     "execution_count": 16,
     "metadata": {},
     "output_type": "execute_result"
    }
   ],
   "source": [
    "import pandas as pd\n",
    "exp_result = pd.DataFrame({'acc': acc_sets, 'parameters': parameters_sets})\n",
    "exp_result.head()"
   ]
  },
  {
   "cell_type": "code",
   "execution_count": 24,
   "metadata": {},
   "outputs": [
    {
     "name": "stdout",
     "output_type": "stream",
     "text": [
      "Best Acc: 1.0\n"
     ]
    },
    {
     "data": {
      "text/plain": [
       "{'n_estimators': 10,\n",
       " 'max_features': 'auto',\n",
       " 'max_depth': 15,\n",
       " 'min_samples_split': 2,\n",
       " 'min_samples_leaf': 4}"
      ]
     },
     "execution_count": 24,
     "metadata": {},
     "output_type": "execute_result"
    }
   ],
   "source": [
    "max_acc_idx = exp_result.acc.idxmax()\n",
    "best_acc = exp_result.iloc[max_acc_idx][\"acc\"]\n",
    "print(f'Best Acc: {best_acc}')\n",
    "exp_result.iloc[max_acc_idx]['parameters']"
   ]
  }
 ],
 "metadata": {
  "kernelspec": {
   "display_name": "Python 3",
   "language": "python",
   "name": "python3"
  },
  "language_info": {
   "codemirror_mode": {
    "name": "ipython",
    "version": 3
   },
   "file_extension": ".py",
   "mimetype": "text/x-python",
   "name": "python",
   "nbconvert_exporter": "python",
   "pygments_lexer": "ipython3",
   "version": "3.6.5"
  }
 },
 "nbformat": 4,
 "nbformat_minor": 2
}
