{
  "nbformat": 4,
  "nbformat_minor": 0,
  "metadata": {
    "anaconda-cloud": {},
    "kernelspec": {
      "display_name": "Python 3",
      "language": "python",
      "name": "python3"
    },
    "language_info": {
      "codemirror_mode": {
        "name": "ipython",
        "version": 3
      },
      "file_extension": ".py",
      "mimetype": "text/x-python",
      "name": "python",
      "nbconvert_exporter": "python",
      "pygments_lexer": "ipython3",
      "version": "3.7.0"
    },
    "colab": {
      "name": "Day_001_HW.ipynb",
      "version": "0.3.2",
      "provenance": []
    }
  },
  "cells": [
    {
      "cell_type": "markdown",
      "metadata": {
        "id": "lOW_Rcs5MD_W",
        "colab_type": "text"
      },
      "source": [
        "## 練習時間\n",
        "#### 請寫一個函式用來計算 Mean Square Error\n",
        "$ MSE = \\frac{1}{n}\\sum_{i=1}^{n}{(Y_i - \\hat{Y}_i)^2} $\n",
        "\n",
        "### Hint: [如何取平方](https://googoodesign.gitbooks.io/-ezpython/unit-1.html)"
      ]
    },
    {
      "cell_type": "markdown",
      "metadata": {
        "id": "CQsxlXIfMD_c",
        "colab_type": "text"
      },
      "source": [
        "# [作業目標]\n",
        "- 仿造範例的MAE函數, 自己寫一個MSE函數(參考上面公式)"
      ]
    },
    {
      "cell_type": "markdown",
      "metadata": {
        "id": "qRpN7QPcMD_f",
        "colab_type": "text"
      },
      "source": [
        "# [作業重點]\n",
        "- 注意程式的縮排\n",
        "- 是否能將數學公式, 轉換為 Python 的函式組合? (In[2], Out[2])"
      ]
    },
    {
      "cell_type": "code",
      "metadata": {
        "id": "Evp5EzCvMD_i",
        "colab_type": "code",
        "colab": {}
      },
      "source": [
        "# 載入基礎套件與代稱\n",
        "import numpy as np\n",
        "import matplotlib.pyplot as plt"
      ],
      "execution_count": 0,
      "outputs": []
    },
    {
      "cell_type": "code",
      "metadata": {
        "id": "WMUgzyebMD_r",
        "colab_type": "code",
        "colab": {}
      },
      "source": [
        "def mean_absolute_error(y, yp):\n",
        "    \"\"\"\n",
        "    計算 MAE\n",
        "    Args:\n",
        "        - y: 實際值\n",
        "        - yp: 預測值\n",
        "    Return:\n",
        "        - mae: MAE\n",
        "    \"\"\"\n",
        "    mae = MAE = sum(abs(y - yp)) / len(y)\n",
        "    return mae\n",
        "\n",
        "# 定義 mean_squared_error 這個函數, 計算並傳回 MSE\n",
        "def mean_squared_error(y, y_hat):\n",
        "    \"\"\"\n",
        "    請完成這個 Function 後往下執行\n",
        "    \"\"\"\n",
        "    return sum((y - y_hat) ** 2) / len(y)"
      ],
      "execution_count": 0,
      "outputs": []
    },
    {
      "cell_type": "code",
      "metadata": {
        "id": "ykg3I2LfMD_y",
        "colab_type": "code",
        "colab": {
          "base_uri": "https://localhost:8080/",
          "height": 281
        },
        "outputId": "03108b45-2b61-4ee0-bda0-e5e64c8190f9"
      },
      "source": [
        "# 與範例相同, 不另外解說\n",
        "w = 3\n",
        "b = 0.5\n",
        "x_lin = np.linspace(0, 100, 101)\n",
        "y = (x_lin + np.random.randn(101) * 5) * w + b\n",
        "\n",
        "plt.plot(x_lin, y, 'b.', label = 'data points')\n",
        "plt.title(\"Assume we have data points\")\n",
        "plt.legend(loc = 2)\n",
        "plt.show()"
      ],
      "execution_count": 3,
      "outputs": [
        {
          "output_type": "display_data",
          "data": {
            "image/png": "[encoded data removed]",
            "text/plain": [
              "<Figure size 432x288 with 1 Axes>"
            ]
          },
          "metadata": {
            "tags": []
          }
        }
      ]
    },
    {
      "cell_type": "code",
      "metadata": {
        "id": "AVgL9x_OMD_5",
        "colab_type": "code",
        "colab": {
          "base_uri": "https://localhost:8080/",
          "height": 281
        },
        "outputId": "ab8171b0-15b1-4e6c-f53e-46139e2fc789"
      },
      "source": [
        "# 與範例相同, 不另外解說\n",
        "y_hat = x_lin * w + b\n",
        "plt.plot(x_lin, y, 'b.', label = 'data')\n",
        "plt.plot(x_lin, y_hat, 'r-', label = 'prediction')\n",
        "plt.title(\"Assume we have data points (And the prediction)\")\n",
        "plt.legend(loc = 2)\n",
        "plt.show()"
      ],
      "execution_count": 4,
      "outputs": [
        {
          "output_type": "display_data",
          "data": {
            "image/png": "[encoded data removed]",
            "text/plain": [
              "<Figure size 432x288 with 1 Axes>"
            ]
          },
          "metadata": {
            "tags": []
          }
        }
      ]
    },
    {
      "cell_type": "code",
      "metadata": {
        "id": "hq15osf7MD_9",
        "colab_type": "code",
        "colab": {
          "base_uri": "https://localhost:8080/",
          "height": 52
        },
        "outputId": "5b843729-c992-4b3c-d032-b99e01c17edb"
      },
      "source": [
        "# 執行 Function, 確認有沒有正常執行\n",
        "MSE = mean_squared_error(y, y_hat)\n",
        "MAE = mean_absolute_error(y, y_hat)\n",
        "print(\"The Mean squared error is %.3f\" % (MSE))\n",
        "print(\"The Mean absolute error is %.3f\" % (MAE))"
      ],
      "execution_count": 5,
      "outputs": [
        {
          "output_type": "stream",
          "text": [
            "The Mean squared error is 346.397\n",
            "The Mean absolute error is 14.588\n"
          ],
          "name": "stdout"
        }
      ]
    },
    {
      "cell_type": "markdown",
      "metadata": {
        "id": "tIMzH4UoMEAA",
        "colab_type": "text"
      },
      "source": [
        "# [作業2]\n",
        "\n",
        "請上 Kaggle, 在 Competitions 或 Dataset 中找一組競賽或資料並寫下：\n",
        "\n",
        "1. 你選的這組資料為何重要\n",
        "\n",
        "   House Prices: Advanced Regression Techniques，有興趣\n",
        "\n",
        "2. 資料從何而來 (tips: 譬如提供者是誰、以什麼方式蒐集)\n",
        "\n",
        "   Kaggle\n",
        "\n",
        "3. 蒐集而來的資料型態為何\n",
        "\n",
        "   有連續&類別\n",
        "\n",
        "4. 這組資料想解決的問題如何評估\n",
        "\n",
        "   先瞭解資料提供了那些變數，再來則是這些變數與想解決的問題之間的關聯，適合用何種模型解決。\n",
        "   \n",
        "\n",
        "# [作業3]\n",
        "\n",
        "想像你經營一個自由載客車隊，你希望能透過數據分析以提升業績，請你思考並描述你如何規劃整體的分析/解決方案：\n",
        "\n",
        "1. 核心問題為何 (tips：如何定義 「提升業績 & 你的假設」)\n",
        "\n",
        "   想透過數據分析提升業績，比如說: 晚上時段業績比較好。\n",
        "\n",
        "2. 資料從何而來 (tips：哪些資料可能會對你想問的問題產生影響 & 資料如何蒐集)\n",
        "\n",
        "   讓乘客填寫簡易問券、或是透過叫車APP蒐集。\n",
        "\n",
        "3. 蒐集而來的資料型態為何\n",
        "\n",
        "   連續&類別混合型。\n",
        "\n",
        "4. 你要回答的問題，其如何評估 (tips：你的假設如何驗證)\n",
        "\n",
        "   將蒐集到的資料，透過搭乘時間進行分類，分成白天與晚上，再進一步進行資料探勘。"
      ]
    }
  ]
}