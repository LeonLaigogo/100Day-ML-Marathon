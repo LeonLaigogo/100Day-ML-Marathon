{
 "cells": [
  {
   "cell_type": "markdown",
   "metadata": {},
   "source": [
    "## Work\n",
    "1. 請嘗試將 preproc_x 替換成以每筆資料的 min/max 進行標準化至 -1 ~ 1 間，再進行訓練\n",
    "2. 請嘗試將 mlp 疊更深 (e.g 5~10 層)，進行訓練後觀察 learning curve 的走勢\n",
    "3. (optional) 請改用 GPU 進行訓練 (如果你有 GPU 的話)，比較使用 CPU 與 GPU 的訓練速度"
   ]
  },
  {
   "cell_type": "code",
   "execution_count": 5,
   "metadata": {},
   "outputs": [
    {
     "data": {
      "text/plain": [
       "'\\nconfirm hardware resorce\\n'"
      ]
     },
     "execution_count": 5,
     "metadata": {},
     "output_type": "execute_result"
    }
   ],
   "source": [
    "\"\"\"\n",
    "confirm hardware resorce\n",
    "\"\"\"\n",
    "# cmd -> nvidia-smi.exe -l"
   ]
  },
  {
   "cell_type": "code",
   "execution_count": 3,
   "metadata": {},
   "outputs": [
    {
     "name": "stderr",
     "output_type": "stream",
     "text": [
      "D:\\Tools\\Anaconda3\\lib\\importlib\\_bootstrap.py:219: RuntimeWarning: numpy.ufunc size changed, may indicate binary incompatibility. Expected 216, got 192\n",
      "  return f(*args, **kwds)\n",
      "D:\\Tools\\Anaconda3\\lib\\site-packages\\h5py\\__init__.py:36: FutureWarning: Conversion of the second argument of issubdtype from `float` to `np.floating` is deprecated. In future, it will be treated as `np.float64 == np.dtype(float).type`.\n",
      "  from ._conv import register_converters as _register_converters\n",
      "Using TensorFlow backend.\n"
     ]
    }
   ],
   "source": [
    "import os\n",
    "import keras\n",
    "\n",
    "# set GPU：os.environ\n",
    "os.environ[\"CUDA_VISIBLE_DEVICES\"] = \"os.environ\""
   ]
  },
  {
   "cell_type": "code",
   "execution_count": 6,
   "metadata": {},
   "outputs": [],
   "source": [
    "train, test = keras.datasets.cifar10.load_data()"
   ]
  },
  {
   "cell_type": "code",
   "execution_count": 65,
   "metadata": {},
   "outputs": [],
   "source": [
    "## data preprocessing\n",
    "from sklearn.preprocessing import MinMaxScaler\n",
    "\n",
    "mms = MinMaxScaler()\n",
    "\n",
    "def preproc_x(x, flatten=True):\n",
    "    for i in range(len(x)):\n",
    "        for j in range(len(x[i])):\n",
    "            x[i][j] = mms.fit_transform(x[i][j].tolist())\n",
    "    \n",
    "    if flatten:\n",
    "        x = x.reshape((len(x), -1))\n",
    "        \n",
    "    return x\n",
    "\n",
    "def preproc_y(y, num_classes=10):\n",
    "    if y.shape[-1] == 1:\n",
    "        y = keras.utils.to_categorical(y, num_classes)\n",
    "    return y    "
   ]
  },
  {
   "cell_type": "code",
   "execution_count": 66,
   "metadata": {},
   "outputs": [],
   "source": [
    "x_train, y_train = train\n",
    "x_test, y_test = test\n",
    "\n",
    "# Preproc the inputs\n",
    "x_train = preproc_x(x_train)\n",
    "x_test = preproc_x(x_test)\n",
    "\n",
    "# Preprc the outputs\n",
    "y_train = preproc_y(y_train)\n",
    "y_test = preproc_y(y_test)"
   ]
  },
  {
   "cell_type": "code",
   "execution_count": 67,
   "metadata": {},
   "outputs": [],
   "source": [
    "def build_mlp(input_shape, output_units=10, num_neurons=[512, 256, 128, 64, 30]):\n",
    "    input_layer = keras.layers.Input(input_shape)\n",
    "    \n",
    "    for i, n_units in enumerate(num_neurons):\n",
    "        if i == 0:\n",
    "            x = keras.layers.Dense(units=n_units, activation=\"relu\", name=\"hidden_layer\"+str(i+1))(input_layer)\n",
    "        else:\n",
    "            x = keras.layers.Dense(units=n_units, activation=\"relu\", name=\"hidden_layer\"+str(i+1))(x)\n",
    "    \n",
    "    out = keras.layers.Dense(units=output_units, activation=\"softmax\", name=\"output\")(x)\n",
    "    \n",
    "    model = keras.models.Model(inputs=[input_layer], outputs=[out])\n",
    "    return model"
   ]
  },
  {
   "cell_type": "code",
   "execution_count": 68,
   "metadata": {},
   "outputs": [
    {
     "name": "stdout",
     "output_type": "stream",
     "text": [
      "_________________________________________________________________\n",
      "Layer (type)                 Output Shape              Param #   \n",
      "=================================================================\n",
      "input_3 (InputLayer)         (None, 3072)              0         \n",
      "_________________________________________________________________\n",
      "hidden_layer1 (Dense)        (None, 512)               1573376   \n",
      "_________________________________________________________________\n",
      "hidden_layer2 (Dense)        (None, 256)               131328    \n",
      "_________________________________________________________________\n",
      "hidden_layer3 (Dense)        (None, 128)               32896     \n",
      "_________________________________________________________________\n",
      "hidden_layer4 (Dense)        (None, 64)                8256      \n",
      "_________________________________________________________________\n",
      "hidden_layer5 (Dense)        (None, 30)                1950      \n",
      "_________________________________________________________________\n",
      "output (Dense)               (None, 10)                310       \n",
      "=================================================================\n",
      "Total params: 1,748,116\n",
      "Trainable params: 1,748,116\n",
      "Non-trainable params: 0\n",
      "_________________________________________________________________\n"
     ]
    }
   ],
   "source": [
    "model = build_mlp(input_shape=x_train.shape[1:])\n",
    "model.summary()"
   ]
  },
  {
   "cell_type": "code",
   "execution_count": 69,
   "metadata": {},
   "outputs": [],
   "source": [
    "## 超參數設定\n",
    "LEARNING_RATE = 0.001\n",
    "EPOCHS = 100\n",
    "BATCH_SIZE = 256"
   ]
  },
  {
   "cell_type": "code",
   "execution_count": 70,
   "metadata": {},
   "outputs": [],
   "source": [
    "optimizer = keras.optimizers.Adam(lr=LEARNING_RATE)\n",
    "model.compile(loss=\"categorical_crossentropy\", metrics=[\"accuracy\"], optimizer=optimizer)"
   ]
  },
  {
   "cell_type": "code",
   "execution_count": 71,
   "metadata": {},
   "outputs": [
    {
     "name": "stdout",
     "output_type": "stream",
     "text": [
      "Train on 50000 samples, validate on 10000 samples\n",
      "Epoch 1/100\n",
      "50000/50000 [==============================] - 13s 264us/step - loss: 2.2007 - acc: 0.1846 - val_loss: 2.1455 - val_acc: 0.2119\n",
      "Epoch 2/100\n",
      "50000/50000 [==============================] - 12s 245us/step - loss: 1.9678 - acc: 0.2975 - val_loss: 2.1433 - val_acc: 0.2297\n",
      "Epoch 3/100\n",
      "50000/50000 [==============================] - 13s 266us/step - loss: 1.4741 - acc: 0.4825 - val_loss: 2.3951 - val_acc: 0.2193\n",
      "Epoch 4/100\n",
      "50000/50000 [==============================] - 15s 305us/step - loss: 0.8009 - acc: 0.7236 - val_loss: 3.4033 - val_acc: 0.2135\n",
      "Epoch 5/100\n",
      "50000/50000 [==============================] - 17s 335us/step - loss: 0.3995 - acc: 0.8637 - val_loss: 4.3134 - val_acc: 0.2075\n",
      "Epoch 6/100\n",
      "50000/50000 [==============================] - 18s 357us/step - loss: 0.2213 - acc: 0.9269 - val_loss: 5.3742 - val_acc: 0.1940\n",
      "Epoch 7/100\n",
      "50000/50000 [==============================] - 18s 352us/step - loss: 0.1463 - acc: 0.9521 - val_loss: 5.8403 - val_acc: 0.2061\n",
      "Epoch 8/100\n",
      "50000/50000 [==============================] - 15s 304us/step - loss: 0.1199 - acc: 0.9608 - val_loss: 6.1197 - val_acc: 0.2095\n",
      "Epoch 9/100\n",
      "50000/50000 [==============================] - 13s 264us/step - loss: 0.1015 - acc: 0.9666 - val_loss: 6.5315 - val_acc: 0.2050s: 0.1001 - acc\n",
      "Epoch 10/100\n",
      "50000/50000 [==============================] - 14s 280us/step - loss: 0.1035 - acc: 0.9657 - val_loss: 6.5986 - val_acc: 0.2005\n",
      "Epoch 11/100\n",
      "50000/50000 [==============================] - 13s 268us/step - loss: 0.0863 - acc: 0.9715 - val_loss: 6.7376 - val_acc: 0.2000\n",
      "Epoch 12/100\n",
      "50000/50000 [==============================] - 13s 265us/step - loss: 0.0705 - acc: 0.9773 - val_loss: 6.9257 - val_acc: 0.2005\n",
      "Epoch 13/100\n",
      "50000/50000 [==============================] - 12s 246us/step - loss: 0.0608 - acc: 0.9805 - val_loss: 7.2207 - val_acc: 0.2010\n",
      "Epoch 14/100\n",
      "50000/50000 [==============================] - 13s 259us/step - loss: 0.0597 - acc: 0.9806 - val_loss: 7.2716 - val_acc: 0.2034\n",
      "Epoch 15/100\n",
      "50000/50000 [==============================] - 12s 236us/step - loss: 0.0601 - acc: 0.9799 - val_loss: 7.1951 - val_acc: 0.1999\n",
      "Epoch 16/100\n",
      "50000/50000 [==============================] - 12s 237us/step - loss: 0.0562 - acc: 0.9813 - val_loss: 7.5252 - val_acc: 0.2008\n",
      "Epoch 17/100\n",
      "50000/50000 [==============================] - 12s 249us/step - loss: 0.0427 - acc: 0.9864 - val_loss: 7.6000 - val_acc: 0.1994\n",
      "Epoch 18/100\n",
      "50000/50000 [==============================] - 12s 238us/step - loss: 0.0528 - acc: 0.9829 - val_loss: 7.4682 - val_acc: 0.1950\n",
      "Epoch 19/100\n",
      "50000/50000 [==============================] - 12s 240us/step - loss: 0.0578 - acc: 0.9816 - val_loss: 7.1144 - val_acc: 0.1956\n",
      "Epoch 20/100\n",
      "50000/50000 [==============================] - 13s 258us/step - loss: 0.0492 - acc: 0.9843 - val_loss: 7.3187 - val_acc: 0.1990\n",
      "Epoch 21/100\n",
      "50000/50000 [==============================] - 13s 258us/step - loss: 0.0324 - acc: 0.9890 - val_loss: 7.7642 - val_acc: 0.1991\n",
      "Epoch 22/100\n",
      "50000/50000 [==============================] - 15s 302us/step - loss: 0.0347 - acc: 0.9893 - val_loss: 7.7664 - val_acc: 0.1990\n",
      "Epoch 23/100\n",
      "50000/50000 [==============================] - 13s 263us/step - loss: 0.0405 - acc: 0.9864 - val_loss: 7.6832 - val_acc: 0.2037\n",
      "Epoch 24/100\n",
      "50000/50000 [==============================] - 13s 262us/step - loss: 0.0405 - acc: 0.9867 - val_loss: 7.5327 - val_acc: 0.2052\n",
      "Epoch 25/100\n",
      "50000/50000 [==============================] - 13s 262us/step - loss: 0.0441 - acc: 0.9859 - val_loss: 7.4515 - val_acc: 0.2038\n",
      "Epoch 26/100\n",
      "50000/50000 [==============================] - 14s 274us/step - loss: 0.0351 - acc: 0.9889 - val_loss: 7.4121 - val_acc: 0.1975\n",
      "Epoch 27/100\n",
      "50000/50000 [==============================] - 13s 265us/step - loss: 0.0272 - acc: 0.9917 - val_loss: 7.6691 - val_acc: 0.2054\n",
      "Epoch 28/100\n",
      "50000/50000 [==============================] - 13s 266us/step - loss: 0.0286 - acc: 0.9909 - val_loss: 7.6802 - val_acc: 0.1968\n",
      "Epoch 29/100\n",
      "50000/50000 [==============================] - 14s 276us/step - loss: 0.0279 - acc: 0.9909 - val_loss: 8.0670 - val_acc: 0.2017\n",
      "Epoch 30/100\n",
      "50000/50000 [==============================] - 16s 326us/step - loss: 0.0373 - acc: 0.9870 - val_loss: 7.6051 - val_acc: 0.1945\n",
      "Epoch 31/100\n",
      "50000/50000 [==============================] - 17s 348us/step - loss: 0.0408 - acc: 0.9869 - val_loss: 7.3698 - val_acc: 0.1959\n",
      "Epoch 32/100\n",
      "50000/50000 [==============================] - 16s 317us/step - loss: 0.0369 - acc: 0.9879 - val_loss: 7.5557 - val_acc: 0.1936\n",
      "Epoch 33/100\n",
      "50000/50000 [==============================] - 14s 279us/step - loss: 0.0275 - acc: 0.9914 - val_loss: 7.5854 - val_acc: 0.2007\n",
      "Epoch 34/100\n",
      "50000/50000 [==============================] - 15s 292us/step - loss: 0.0228 - acc: 0.9931 - val_loss: 7.9232 - val_acc: 0.2021\n",
      "Epoch 35/100\n",
      "50000/50000 [==============================] - 12s 246us/step - loss: 0.0190 - acc: 0.9944 - val_loss: 8.0813 - val_acc: 0.2049\n",
      "Epoch 36/100\n",
      "50000/50000 [==============================] - 12s 247us/step - loss: 0.0239 - acc: 0.9926 - val_loss: 7.9178 - val_acc: 0.1970\n",
      "Epoch 37/100\n",
      "50000/50000 [==============================] - 13s 251us/step - loss: 0.0385 - acc: 0.9878 - val_loss: 7.2797 - val_acc: 0.1986- loss: 0.\n",
      "Epoch 38/100\n",
      "50000/50000 [==============================] - 14s 276us/step - loss: 0.0325 - acc: 0.9898 - val_loss: 7.3798 - val_acc: 0.2018\n",
      "Epoch 39/100\n",
      "50000/50000 [==============================] - 13s 257us/step - loss: 0.0239 - acc: 0.9922 - val_loss: 7.5675 - val_acc: 0.1976\n",
      "Epoch 40/100\n",
      "50000/50000 [==============================] - 12s 247us/step - loss: 0.0196 - acc: 0.9936 - val_loss: 7.7768 - val_acc: 0.2023\n",
      "Epoch 41/100\n",
      "50000/50000 [==============================] - 12s 248us/step - loss: 0.0206 - acc: 0.9930 - val_loss: 7.9066 - val_acc: 0.2031\n",
      "Epoch 42/100\n",
      "50000/50000 [==============================] - 12s 247us/step - loss: 0.0205 - acc: 0.9938 - val_loss: 7.9181 - val_acc: 0.1970\n",
      "Epoch 43/100\n",
      "50000/50000 [==============================] - 12s 247us/step - loss: 0.0254 - acc: 0.9923 - val_loss: 7.7687 - val_acc: 0.1953\n",
      "Epoch 44/100\n",
      "50000/50000 [==============================] - 13s 256us/step - loss: 0.0330 - acc: 0.9895 - val_loss: 7.2089 - val_acc: 0.1936\n",
      "Epoch 45/100\n",
      "50000/50000 [==============================] - 12s 246us/step - loss: 0.0297 - acc: 0.9902 - val_loss: 7.2618 - val_acc: 0.1997\n",
      "Epoch 46/100\n",
      "50000/50000 [==============================] - 12s 247us/step - loss: 0.0185 - acc: 0.9943 - val_loss: 7.6017 - val_acc: 0.1957\n",
      "Epoch 47/100\n",
      "50000/50000 [==============================] - 12s 243us/step - loss: 0.0140 - acc: 0.9959 - val_loss: 7.6577 - val_acc: 0.1963\n",
      "Epoch 48/100\n",
      "50000/50000 [==============================] - 12s 241us/step - loss: 0.0190 - acc: 0.9946 - val_loss: 7.6595 - val_acc: 0.1983\n",
      "Epoch 49/100\n",
      "50000/50000 [==============================] - 13s 257us/step - loss: 0.0225 - acc: 0.9929 - val_loss: 7.7477 - val_acc: 0.1932\n",
      "Epoch 50/100\n",
      "50000/50000 [==============================] - 12s 249us/step - loss: 0.0240 - acc: 0.9925 - val_loss: 7.5490 - val_acc: 0.1961\n",
      "Epoch 51/100\n",
      "50000/50000 [==============================] - 12s 249us/step - loss: 0.0187 - acc: 0.9939 - val_loss: 7.8874 - val_acc: 0.1913\n",
      "Epoch 52/100\n",
      "50000/50000 [==============================] - 12s 247us/step - loss: 0.0269 - acc: 0.9915 - val_loss: 7.4047 - val_acc: 0.1904\n",
      "Epoch 53/100\n",
      "50000/50000 [==============================] - 13s 261us/step - loss: 0.0304 - acc: 0.9901 - val_loss: 7.1506 - val_acc: 0.1939\n",
      "Epoch 54/100\n",
      "50000/50000 [==============================] - 12s 248us/step - loss: 0.0169 - acc: 0.9946 - val_loss: 7.6639 - val_acc: 0.1987\n",
      "Epoch 55/100\n",
      "50000/50000 [==============================] - 12s 246us/step - loss: 0.0121 - acc: 0.9959 - val_loss: 7.9669 - val_acc: 0.1944\n",
      "Epoch 56/100\n",
      "50000/50000 [==============================] - 12s 249us/step - loss: 0.0209 - acc: 0.9932 - val_loss: 7.6079 - val_acc: 0.1911\n",
      "Epoch 57/100\n",
      "50000/50000 [==============================] - 12s 244us/step - loss: 0.0221 - acc: 0.9933 - val_loss: 7.5800 - val_acc: 0.2007\n",
      "Epoch 58/100\n"
     ]
    },
    {
     "name": "stdout",
     "output_type": "stream",
     "text": [
      "50000/50000 [==============================] - 13s 250us/step - loss: 0.0224 - acc: 0.9932 - val_loss: 7.5299 - val_acc: 0.1962\n",
      "Epoch 59/100\n",
      "50000/50000 [==============================] - 13s 270us/step - loss: 0.0164 - acc: 0.9944 - val_loss: 7.7354 - val_acc: 0.1985\n",
      "Epoch 60/100\n",
      "50000/50000 [==============================] - 14s 278us/step - loss: 0.0194 - acc: 0.9941 - val_loss: 7.3577 - val_acc: 0.1944\n",
      "Epoch 61/100\n",
      "50000/50000 [==============================] - 14s 283us/step - loss: 0.0184 - acc: 0.9943 - val_loss: 7.4787 - val_acc: 0.1996\n",
      "Epoch 62/100\n",
      "50000/50000 [==============================] - 14s 279us/step - loss: 0.0133 - acc: 0.9958 - val_loss: 7.9132 - val_acc: 0.1977\n",
      "Epoch 63/100\n",
      "50000/50000 [==============================] - 14s 279us/step - loss: 0.0203 - acc: 0.9934 - val_loss: 7.5441 - val_acc: 0.1955\n",
      "Epoch 64/100\n",
      "50000/50000 [==============================] - 12s 247us/step - loss: 0.0204 - acc: 0.9936 - val_loss: 7.2535 - val_acc: 0.1988\n",
      "Epoch 65/100\n",
      "50000/50000 [==============================] - 12s 246us/step - loss: 0.0188 - acc: 0.9942 - val_loss: 7.3914 - val_acc: 0.1936\n",
      "Epoch 66/100\n",
      "50000/50000 [==============================] - 12s 246us/step - loss: 0.0150 - acc: 0.9954 - val_loss: 7.6152 - val_acc: 0.1962\n",
      "Epoch 67/100\n",
      "50000/50000 [==============================] - 13s 253us/step - loss: 0.0108 - acc: 0.9964 - val_loss: 8.0271 - val_acc: 0.1991\n",
      "Epoch 68/100\n",
      "50000/50000 [==============================] - 12s 246us/step - loss: 0.0146 - acc: 0.9952 - val_loss: 7.7112 - val_acc: 0.1999\n",
      "Epoch 69/100\n",
      "50000/50000 [==============================] - 12s 246us/step - loss: 0.0215 - acc: 0.9934 - val_loss: 7.4334 - val_acc: 0.1967\n",
      "Epoch 70/100\n",
      "50000/50000 [==============================] - 12s 245us/step - loss: 0.0182 - acc: 0.9942 - val_loss: 7.4079 - val_acc: 0.1990\n",
      "Epoch 71/100\n",
      "50000/50000 [==============================] - 12s 242us/step - loss: 0.0144 - acc: 0.9955 - val_loss: 7.6851 - val_acc: 0.1956\n",
      "Epoch 72/100\n",
      "50000/50000 [==============================] - 13s 250us/step - loss: 0.0169 - acc: 0.9947 - val_loss: 7.2801 - val_acc: 0.1981\n",
      "Epoch 73/100\n",
      "50000/50000 [==============================] - 13s 251us/step - loss: 0.0170 - acc: 0.9949 - val_loss: 7.3747 - val_acc: 0.1958\n",
      "Epoch 74/100\n",
      "50000/50000 [==============================] - 13s 253us/step - loss: 0.0152 - acc: 0.9956 - val_loss: 7.1542 - val_acc: 0.1946\n",
      "Epoch 75/100\n",
      "50000/50000 [==============================] - 12s 243us/step - loss: 0.0118 - acc: 0.9965 - val_loss: 7.3316 - val_acc: 0.1952\n",
      "Epoch 76/100\n",
      "50000/50000 [==============================] - 12s 242us/step - loss: 0.0102 - acc: 0.9971 - val_loss: 7.6638 - val_acc: 0.1975\n",
      "Epoch 77/100\n",
      "50000/50000 [==============================] - 13s 252us/step - loss: 0.0059 - acc: 0.9982 - val_loss: 7.8123 - val_acc: 0.2007\n",
      "Epoch 78/100\n",
      "50000/50000 [==============================] - 14s 276us/step - loss: 0.0063 - acc: 0.9981 - val_loss: 8.0520 - val_acc: 0.1965\n",
      "Epoch 79/100\n",
      "50000/50000 [==============================] - 13s 255us/step - loss: 0.0083 - acc: 0.9977 - val_loss: 7.9403 - val_acc: 0.1940\n",
      "Epoch 80/100\n",
      "50000/50000 [==============================] - 12s 250us/step - loss: 0.0234 - acc: 0.9930 - val_loss: 6.9675 - val_acc: 0.1907\n",
      "Epoch 81/100\n",
      "50000/50000 [==============================] - 12s 249us/step - loss: 0.0303 - acc: 0.9910 - val_loss: 6.3784 - val_acc: 0.1972\n",
      "Epoch 82/100\n",
      "50000/50000 [==============================] - 13s 263us/step - loss: 0.0194 - acc: 0.9941 - val_loss: 6.7484 - val_acc: 0.2014\n",
      "Epoch 83/100\n",
      "50000/50000 [==============================] - 13s 253us/step - loss: 0.0130 - acc: 0.9961 - val_loss: 6.9797 - val_acc: 0.1979\n",
      "Epoch 84/100\n",
      "50000/50000 [==============================] - 12s 248us/step - loss: 0.0068 - acc: 0.9979 - val_loss: 7.2912 - val_acc: 0.1999\n",
      "Epoch 85/100\n",
      "50000/50000 [==============================] - 12s 250us/step - loss: 0.0072 - acc: 0.9979 - val_loss: 7.6887 - val_acc: 0.2017\n",
      "Epoch 86/100\n",
      "50000/50000 [==============================] - 12s 246us/step - loss: 0.0104 - acc: 0.9970 - val_loss: 7.6740 - val_acc: 0.1995\n",
      "Epoch 87/100\n",
      "50000/50000 [==============================] - 13s 258us/step - loss: 0.0178 - acc: 0.9949 - val_loss: 7.0516 - val_acc: 0.1982\n",
      "Epoch 88/100\n",
      "50000/50000 [==============================] - 14s 275us/step - loss: 0.0149 - acc: 0.9955 - val_loss: 7.0801 - val_acc: 0.2026\n",
      "Epoch 89/100\n",
      "50000/50000 [==============================] - 14s 280us/step - loss: 0.0137 - acc: 0.9960 - val_loss: 7.2536 - val_acc: 0.2011\n",
      "Epoch 90/100\n",
      "50000/50000 [==============================] - 14s 279us/step - loss: 0.0161 - acc: 0.9952 - val_loss: 7.0374 - val_acc: 0.2014\n",
      "Epoch 91/100\n",
      "50000/50000 [==============================] - 14s 285us/step - loss: 0.0113 - acc: 0.9962 - val_loss: 7.2899 - val_acc: 0.1979\n",
      "Epoch 92/100\n",
      "50000/50000 [==============================] - 13s 253us/step - loss: 0.0098 - acc: 0.9967 - val_loss: 7.4337 - val_acc: 0.2050\n",
      "Epoch 93/100\n",
      "50000/50000 [==============================] - 12s 245us/step - loss: 0.0100 - acc: 0.9970 - val_loss: 7.4614 - val_acc: 0.2015: 0.0097 - acc: 0.99 - ETA: 0s - loss: 0.0097 -\n",
      "Epoch 94/100\n",
      "50000/50000 [==============================] - 13s 252us/step - loss: 0.0129 - acc: 0.9960 - val_loss: 7.3993 - val_acc: 0.1996\n",
      "Epoch 95/100\n",
      "50000/50000 [==============================] - 12s 248us/step - loss: 0.0114 - acc: 0.9966 - val_loss: 7.5741 - val_acc: 0.1996\n",
      "Epoch 96/100\n",
      "50000/50000 [==============================] - 13s 257us/step - loss: 0.0165 - acc: 0.9948 - val_loss: 6.9792 - val_acc: 0.1894\n",
      "Epoch 97/100\n",
      "50000/50000 [==============================] - 13s 251us/step - loss: 0.0217 - acc: 0.9935 - val_loss: 6.9626 - val_acc: 0.1996\n",
      "Epoch 98/100\n",
      "50000/50000 [==============================] - 12s 249us/step - loss: 0.0119 - acc: 0.9962 - val_loss: 7.0687 - val_acc: 0.2007\n",
      "Epoch 99/100\n",
      "50000/50000 [==============================] - 12s 250us/step - loss: 0.0057 - acc: 0.9982 - val_loss: 7.4947 - val_acc: 0.2047\n",
      "Epoch 100/100\n",
      "50000/50000 [==============================] - 13s 256us/step - loss: 0.0036 - acc: 0.9989 - val_loss: 7.6577 - val_acc: 0.2001\n"
     ]
    },
    {
     "data": {
      "text/plain": [
       "<keras.callbacks.History at 0x262627b1828>"
      ]
     },
     "execution_count": 71,
     "metadata": {},
     "output_type": "execute_result"
    }
   ],
   "source": [
    "model.fit(x_train, y_train, \n",
    "          epochs=EPOCHS, \n",
    "          batch_size=BATCH_SIZE, \n",
    "          validation_data=(x_test, y_test), \n",
    "          shuffle=True)"
   ]
  },
  {
   "cell_type": "code",
   "execution_count": 72,
   "metadata": {},
   "outputs": [
    {
     "data": {
      "image/png": "[encoded data removed]",
      "text/plain": [
       "<Figure size 432x288 with 1 Axes>"
      ]
     },
     "metadata": {},
     "output_type": "display_data"
    },
    {
     "data": {
      "image/png": "[encoded data removed]",
      "text/plain": [
       "<Figure size 432x288 with 1 Axes>"
      ]
     },
     "metadata": {},
     "output_type": "display_data"
    }
   ],
   "source": [
    "import matplotlib.pyplot as plt\n",
    "\n",
    "\n",
    "train_loss = model.history.history[\"loss\"]\n",
    "valid_loss = model.history.history[\"val_loss\"]\n",
    "\n",
    "train_acc = model.history.history[\"acc\"]\n",
    "valid_acc = model.history.history[\"val_acc\"]\n",
    "\n",
    "plt.plot(range(len(train_loss)), train_loss, label=\"train loss\")\n",
    "plt.plot(range(len(valid_loss)), valid_loss, label=\"valid loss\")\n",
    "plt.legend()\n",
    "plt.title(\"Loss\")\n",
    "plt.show()\n",
    "\n",
    "plt.plot(range(len(train_acc)), train_acc, label=\"train accuracy\")\n",
    "plt.plot(range(len(valid_acc)), valid_acc, label=\"valid accuracy\")\n",
    "plt.legend()\n",
    "plt.title(\"Accuracy\")\n",
    "plt.show()"
   ]
  },
  {
   "cell_type": "code",
   "execution_count": null,
   "metadata": {},
   "outputs": [],
   "source": []
  }
 ],
 "metadata": {
  "kernelspec": {
   "display_name": "Python 3",
   "language": "python",
   "name": "python3"
  },
  "language_info": {
   "codemirror_mode": {
    "name": "ipython",
    "version": 3
   },
   "file_extension": ".py",
   "mimetype": "text/x-python",
   "name": "python",
   "nbconvert_exporter": "python",
   "pygments_lexer": "ipython3",
   "version": "3.6.5"
  }
 },
 "nbformat": 4,
 "nbformat_minor": 2
}
